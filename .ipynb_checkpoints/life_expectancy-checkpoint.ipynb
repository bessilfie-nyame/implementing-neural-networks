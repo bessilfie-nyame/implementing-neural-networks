{
 "cells": [
  {
   "cell_type": "code",
   "execution_count": null,
   "id": "44b89192",
   "metadata": {},
   "outputs": [],
   "source": [
    "import pandas as pd\n",
    "from sklearn.model_selection import train_test_split\n",
    "from sklearn.preprocessing import Normalizer\n",
    "from sklearn.preprocessing import StandardScaler\n",
    "from sklearn.compose import ColumnTransformer\n",
    "\n",
    "from tensorflow.keras.models import Sequential\n",
    "from tensorflow.keras.layers import InputLayer, Dense\n",
    "from tensorflow.keras.optimizers import Adam"
   ]
  },
  {
   "cell_type": "code",
   "execution_count": null,
   "id": "57e79856",
   "metadata": {},
   "outputs": [],
   "source": [
    "dataset = pd.read_csv(\"life_expectancy.csv\")\n",
    "print(dataset.head())\n",
    "print(dataset['Life expectancy'])\n",
    "print(dataset.describe())"
   ]
  },
  {
   "cell_type": "code",
   "execution_count": null,
   "id": "b5149422",
   "metadata": {},
   "outputs": [],
   "source": [
    "dataset.drop('Country', axis=1, inplace=True)\n",
    "# print(dataset.head())\n",
    "labels = dataset.iloc[:,-1]\n",
    "features = dataset.iloc[:,:-1]\n",
    "# print(labels.head())\n",
    "# print(features.head())\n",
    "features = pd.get_dummies(features)\n",
    "# print(features.head())\n",
    "features_train, features_test, labels_train, labels_test = train_test_split(features, labels, test_size=0.2, random_state=5)\n",
    "print(features_train.shape, labels_train.shape)\n",
    "print(features_test.shape, labels_test.shape)\n",
    "\n",
    "numerical_features = features.select_dtypes(include=['float64', 'int64'])\n",
    "numerical_columns = numerical_features.columns\n",
    "# print(numerical_columns)\n",
    "ct = ColumnTransformer([(\"only numeric\", StandardScaler(), numerical_columns)], remainder='passthrough')\n",
    "features_train_scaled = ct.fit_transform(features_train)\n",
    "features_test_scaled = ct.transform(features_test)"
   ]
  },
  {
   "cell_type": "code",
   "execution_count": null,
   "id": "a82becc0",
   "metadata": {},
   "outputs": [],
   "source": [
    "my_model = Sequential()\n",
    "input = InputLayer(input_shape=(features.shape[1],))\n",
    "my_model.add(input)\n",
    "my_model.add(Dense(64, activation='relu'))\n",
    "my_model.add(Dense(1))\n",
    "my_model.summary()"
   ]
  },
  {
   "cell_type": "code",
   "execution_count": null,
   "id": "b487c7be",
   "metadata": {},
   "outputs": [],
   "source": [
    "opt = Adam(learning_rate=0.01)\n",
    "my_model.compile(loss='mse', metrics=['mae'], optimizer=opt)\n",
    "my_model.fit(features_train_scaled, labels_train, epochs = 20, batch_size = 5, verbose = 0)"
   ]
  },
  {
   "cell_type": "code",
   "execution_count": null,
   "id": "3335e38a",
   "metadata": {},
   "outputs": [],
   "source": [
    "res_mse, res_mae = my_model.evaluate(features_test_scaled, labels_test)\n",
    "print('MSE', res_mse)\n",
    "print('MAE', res_mae)"
   ]
  }
 ],
 "metadata": {
  "kernelspec": {
   "display_name": "Python 3",
   "language": "python",
   "name": "python3"
  },
  "language_info": {
   "codemirror_mode": {
    "name": "ipython",
    "version": 3
   },
   "file_extension": ".py",
   "mimetype": "text/x-python",
   "name": "python",
   "nbconvert_exporter": "python",
   "pygments_lexer": "ipython3",
   "version": "3.8.5"
  }
 },
 "nbformat": 4,
 "nbformat_minor": 5
}
